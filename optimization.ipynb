{
 "cells": [
  {
   "cell_type": "code",
   "execution_count": 49,
   "metadata": {},
   "outputs": [],
   "source": [
    "import numpy as np\n",
    "import time\n",
    "import timeit\n",
    "import test_pd"
   ]
  },
  {
   "cell_type": "markdown",
   "metadata": {},
   "source": [
    "#### Original Functions"
   ]
  },
  {
   "cell_type": "code",
   "execution_count": 4,
   "metadata": {
    "collapsed": true
   },
   "outputs": [],
   "source": [
    "def cvt2grayscale(img):\n",
    "    grayImage = []\n",
    "    for i in range(0, img.size // 3):\n",
    "        luminance = int(0.3 * img[3 * i] + 0.59 *\n",
    "                        img[3 * i + 1] + 0.11 * img[3 * i + 2])\n",
    "        grayImage.append(luminance)\n",
    "\n",
    "    return np.array(grayImage)"
   ]
  },
  {
   "cell_type": "markdown",
   "metadata": {},
   "source": [
    "#### Optimized Functions"
   ]
  },
  {
   "cell_type": "code",
   "execution_count": 16,
   "metadata": {
    "collapsed": true
   },
   "outputs": [],
   "source": [
    "def cvt2grayscale_v1(img):\n",
    "    size = img.size // 3\n",
    "    grayImage = np.zeros(size) #create a dictionary \n",
    "    \n",
    "    for i in range(0, size):\n",
    "        luminance = int(0.3 * img[3 * i] + 0.59 *\n",
    "                        img[3 * i + 1] + 0.11 * img[3 * i + 2])\n",
    "        grayImage[i] = luminance\n",
    "\n",
    "    return grayImage"
   ]
  },
  {
   "cell_type": "code",
   "execution_count": 27,
   "metadata": {},
   "outputs": [
    {
     "name": "stdout",
     "output_type": "stream",
     "text": [
      ".\r\n",
      "----------------------------------------------------------------------\r\n",
      "Ran 1 test in 11.473s\r\n",
      "\r\n",
      "OK\r\n"
     ]
    }
   ],
   "source": [
    "#Test to make sure new function works as expected\n",
    "!python test_pd.py"
   ]
  },
  {
   "cell_type": "code",
   "execution_count": 28,
   "metadata": {
    "collapsed": true
   },
   "outputs": [],
   "source": [
    "from numba import jit\n",
    "\n",
    "@jit\n",
    "def cvt2grayscale_v2(img):\n",
    "    size = img.size // 3\n",
    "    grayImage = np.zeros(size) #create a dictionary \n",
    "    \n",
    "    for i in range(0, size):\n",
    "        luminance = int(0.3 * img[3 * i] + 0.59 *\n",
    "                        img[3 * i + 1] + 0.11 * img[3 * i + 2])\n",
    "        grayImage[i] = luminance\n",
    "\n",
    "    return grayImage"
   ]
  },
  {
   "cell_type": "markdown",
   "metadata": {},
   "source": [
    "#### Timings"
   ]
  },
  {
   "cell_type": "code",
   "execution_count": 2,
   "metadata": {
    "collapsed": true
   },
   "outputs": [],
   "source": [
    "# Read Image\n",
    "filename = \"TestImage1.raw\"\n",
    "testImage = np.fromfile(filename, dtype='uint8', sep=\"\")"
   ]
  },
  {
   "cell_type": "code",
   "execution_count": 50,
   "metadata": {},
   "outputs": [
    {
     "name": "stdout",
     "output_type": "stream",
     "text": [
      "1 loop, best of 3: 5.22 s per loop\n"
     ]
    }
   ],
   "source": [
    "# Time original function\n",
    "%timeit cvt2grayscale(testImage)"
   ]
  },
  {
   "cell_type": "code",
   "execution_count": 51,
   "metadata": {},
   "outputs": [
    {
     "name": "stdout",
     "output_type": "stream",
     "text": [
      "1 loop, best of 3: 5.07 s per loop\n"
     ]
    }
   ],
   "source": [
    "#Time updated function #1\n",
    "%timeit cvt2grayscale_v1(testImage)"
   ]
  },
  {
   "cell_type": "code",
   "execution_count": 48,
   "metadata": {},
   "outputs": [
    {
     "name": "stdout",
     "output_type": "stream",
     "text": [
      "100 loops, best of 3: 5.3 ms per loop\n"
     ]
    }
   ],
   "source": [
    "# Time updated function #2\n",
    "%timeit cvt2grayscale_v2(testImage)"
   ]
  }
 ],
 "metadata": {
  "kernelspec": {
   "display_name": "Python 3",
   "language": "python",
   "name": "python3"
  },
  "language_info": {
   "codemirror_mode": {
    "name": "ipython",
    "version": 3
   },
   "file_extension": ".py",
   "mimetype": "text/x-python",
   "name": "python",
   "nbconvert_exporter": "python",
   "pygments_lexer": "ipython3",
   "version": "3.6.1"
  }
 },
 "nbformat": 4,
 "nbformat_minor": 2
}
