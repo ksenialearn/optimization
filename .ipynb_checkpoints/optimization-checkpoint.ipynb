{
 "cells": [
  {
   "cell_type": "code",
   "execution_count": 7,
   "metadata": {
    "collapsed": true
   },
   "outputs": [],
   "source": [
    "import numpy as np\n",
    "import time\n",
    "import timeit\n",
    "import test_pd"
   ]
  },
  {
   "cell_type": "markdown",
   "metadata": {},
   "source": [
    "#### Original Functions"
   ]
  },
  {
   "cell_type": "code",
   "execution_count": 4,
   "metadata": {
    "collapsed": true
   },
   "outputs": [],
   "source": [
    "def cvt2grayscale(img):\n",
    "    grayImage = []\n",
    "    for i in range(0, img.size // 3):\n",
    "        luminance = int(0.3 * img[3 * i] + 0.59 *\n",
    "                        img[3 * i + 1] + 0.11 * img[3 * i + 2])\n",
    "        grayImage.append(luminance)\n",
    "\n",
    "    return np.array(grayImage)"
   ]
  },
  {
   "cell_type": "code",
   "execution_count": 1,
   "metadata": {
    "collapsed": true
   },
   "outputs": [],
   "source": [
    "def smooth_image_with_Gaussian_filter(img):\n",
    "    kernel = (0.006, 0.061, 0.242, 0.383, 0.242, 0.061, 0.006)\n",
    "    kernel_size = len(kernel)\n",
    "    border_offset = (kernel_size - 1) // 2\n",
    "\n",
    "    img_copy = np.copy(img)\n",
    "    for i in range(0, row):\n",
    "        # Keep border values as they are\n",
    "        for j in range(border_offset, col - border_offset):\n",
    "            img_copy_ij = 0\n",
    "            for k in range((-1) * border_offset, border_offset + 1):\n",
    "                img_copy_ij += img[i][j + k] * kernel[border_offset + k]\n",
    "            img_copy[i][j] = img_copy_ij\n",
    "\n",
    "    img_copy_copy = np.copy(img_copy)\n",
    "    # Keep border values as they are\n",
    "    for i in range(border_offset, row - border_offset):\n",
    "        for j in range(0, col):\n",
    "            img_copy_copy_ij = 0\n",
    "            for k in range((-1) * border_offset, border_offset + 1):\n",
    "                img_copy_copy_ij += img_copy[i +\n",
    "                                             k][j] * kernel[border_offset + k]\n",
    "            img_copy_copy[i][j] = img_copy_copy_ij\n",
    "\n",
    "    return img_copy_copy    "
   ]
  },
  {
   "cell_type": "markdown",
   "metadata": {},
   "source": [
    "#### Optimized Functions"
   ]
  },
  {
   "cell_type": "code",
   "execution_count": 16,
   "metadata": {
    "collapsed": true
   },
   "outputs": [],
   "source": [
    "def cvt2grayscale_v1(img):\n",
    "    size = img.size // 3\n",
    "    grayImage = np.zeros(size) #create a dictionary \n",
    "    \n",
    "    for i in range(0, size):\n",
    "        luminance = int(0.3 * img[3 * i] + 0.59 *\n",
    "                        img[3 * i + 1] + 0.11 * img[3 * i + 2])\n",
    "        grayImage[i] = luminance\n",
    "\n",
    "    return grayImage"
   ]
  },
  {
   "cell_type": "code",
   "execution_count": 27,
   "metadata": {},
   "outputs": [
    {
     "name": "stdout",
     "output_type": "stream",
     "text": [
      ".\r\n",
      "----------------------------------------------------------------------\r\n",
      "Ran 1 test in 11.473s\r\n",
      "\r\n",
      "OK\r\n"
     ]
    }
   ],
   "source": [
    "#Test to make sure new function works as expected\n",
    "!python test_pd.py"
   ]
  },
  {
   "cell_type": "code",
   "execution_count": 15,
   "metadata": {
    "collapsed": true
   },
   "outputs": [],
   "source": [
    "from numba import jit\n",
    "\n",
    "@jit\n",
    "def cvt2grayscale_v2(img):\n",
    "    size = img.size // 3\n",
    "    grayImage = np.zeros(size) #create a dictionary \n",
    "    \n",
    "    for i in range(0, size):\n",
    "        luminance = int(0.3 * img[3 * i] + 0.59 *\n",
    "                        img[3 * i + 1] + 0.11 * img[3 * i + 2])\n",
    "        grayImage[i] = luminance\n",
    "\n",
    "    return grayImage"
   ]
  },
  {
   "cell_type": "code",
   "execution_count": 17,
   "metadata": {
    "collapsed": true
   },
   "outputs": [],
   "source": [
    "@jit\n",
    "def smooth_image_with_Gaussian_filter_v1(img):\n",
    "    row, col = 756, 1008\n",
    "    kernel = (0.006, 0.061, 0.242, 0.383, 0.242, 0.061, 0.006)\n",
    "    kernel_size = len(kernel)\n",
    "    border_offset = (kernel_size - 1) // 2\n",
    "\n",
    "    img_copy = np.copy(img)\n",
    "    for i in range(0, row):\n",
    "        # Keep border values as they are\n",
    "        for j in range(border_offset, col - border_offset):\n",
    "            img_copy_ij = 0\n",
    "            for k in range((-1) * border_offset, border_offset + 1):\n",
    "                img_copy_ij += img[i][j + k] * kernel[border_offset + k]\n",
    "            img_copy[i][j] = img_copy_ij\n",
    "\n",
    "    img_copy_copy = np.copy(img_copy)\n",
    "    # Keep border values as they are\n",
    "    for i in range(border_offset, row - border_offset):\n",
    "        for j in range(0, col):\n",
    "            img_copy_copy_ij = 0\n",
    "            for k in range((-1) * border_offset, border_offset + 1):\n",
    "                img_copy_copy_ij += img_copy[i +\n",
    "                                             k][j] * kernel[border_offset + k]\n",
    "            img_copy_copy[i][j] = img_copy_copy_ij\n",
    "\n",
    "    return img_copy_copy    \n"
   ]
  },
  {
   "cell_type": "code",
   "execution_count": null,
   "metadata": {
    "collapsed": true
   },
   "outputs": [],
   "source": [
    "@jit\n",
    "def smooth_image_with_Gaussian_filter_v2(img):\n",
    "    row, col = 756, 1008\n",
    "    kernel = (0.006, 0.061, 0.242, 0.383, 0.242, 0.061, 0.006)\n",
    "    kernel_size = len(kernel)\n",
    "    border_offset = (kernel_size - 1) // 2\n",
    "\n",
    "    img_copy = np.copy(img)\n",
    "    for i in range(0, row):\n",
    "        # Keep border values as they are\n",
    "        for j in range(border_offset, col - border_offset):\n",
    "            img_copy_ij = 0\n",
    "            for k in range((-1) * border_offset, border_offset + 1):\n",
    "                img_copy_ij += img[i][j + k] * kernel[border_offset + k]\n",
    "            img_copy[i][j] = img_copy_ij\n",
    "\n",
    "    img_copy_copy = np.copy(img_copy)\n",
    "    # Keep border values as they are\n",
    "    for i in range(border_offset, row - border_offset):\n",
    "        for j in range(0, col):\n",
    "            img_copy_copy_ij = 0\n",
    "            for k in range((-1) * border_offset, border_offset + 1):\n",
    "                img_copy_copy_ij += img_copy[i +\n",
    "                                             k][j] * kernel[border_offset + k]\n",
    "            img_copy_copy[i][j] = img_copy_copy_ij\n",
    "\n",
    "    return img_copy_copy   "
   ]
  },
  {
   "cell_type": "markdown",
   "metadata": {},
   "source": [
    "#### Timings"
   ]
  },
  {
   "cell_type": "markdown",
   "metadata": {},
   "source": [
    "cvt2grayscale"
   ]
  },
  {
   "cell_type": "code",
   "execution_count": 8,
   "metadata": {},
   "outputs": [],
   "source": [
    "# Read Image\n",
    "filename = \"TestImage1.raw\"\n",
    "testImage = np.fromfile(filename, dtype='uint8', sep=\"\")"
   ]
  },
  {
   "cell_type": "code",
   "execution_count": 50,
   "metadata": {},
   "outputs": [
    {
     "name": "stdout",
     "output_type": "stream",
     "text": [
      "1 loop, best of 3: 5.22 s per loop\n"
     ]
    }
   ],
   "source": [
    "# Time original function\n",
    "%timeit cvt2grayscale(testImage)"
   ]
  },
  {
   "cell_type": "code",
   "execution_count": 51,
   "metadata": {},
   "outputs": [
    {
     "name": "stdout",
     "output_type": "stream",
     "text": [
      "1 loop, best of 3: 5.07 s per loop\n"
     ]
    }
   ],
   "source": [
    "#Time updated function #1\n",
    "%timeit cvt2grayscale_v1(testImage)"
   ]
  },
  {
   "cell_type": "code",
   "execution_count": 48,
   "metadata": {},
   "outputs": [
    {
     "name": "stdout",
     "output_type": "stream",
     "text": [
      "100 loops, best of 3: 5.3 ms per loop\n"
     ]
    }
   ],
   "source": [
    "# Time updated function #2\n",
    "%timeit cvt2grayscale_v2(testImage)"
   ]
  },
  {
   "cell_type": "markdown",
   "metadata": {},
   "source": [
    "smooth_image_with_Gaussian_filter"
   ]
  },
  {
   "cell_type": "code",
   "execution_count": 9,
   "metadata": {},
   "outputs": [],
   "source": [
    "row, col = 756, 1008  # Size of TestImage 1 and 2\n",
    "grayImage = cvt2grayscale_v2(testImage).reshape([row, col])"
   ]
  },
  {
   "cell_type": "code",
   "execution_count": 10,
   "metadata": {},
   "outputs": [
    {
     "name": "stdout",
     "output_type": "stream",
     "text": [
      "1 loop, best of 3: 8.49 s per loop\n"
     ]
    }
   ],
   "source": [
    "#Time original function\n",
    "%timeit smooth_image_with_Gaussian_filter(grayImage)"
   ]
  },
  {
   "cell_type": "code",
   "execution_count": 18,
   "metadata": {},
   "outputs": [
    {
     "name": "stdout",
     "output_type": "stream",
     "text": [
      "The slowest run took 31.59 times longer than the fastest. This could mean that an intermediate result is being cached.\n",
      "1 loop, best of 3: 9.87 ms per loop\n"
     ]
    }
   ],
   "source": [
    "#Time version 1: numbda\n",
    "%timeit smooth_image_with_Gaussian_filter_v1(grayImage)"
   ]
  },
  {
   "cell_type": "code",
   "execution_count": null,
   "metadata": {
    "collapsed": true
   },
   "outputs": [],
   "source": []
  }
 ],
 "metadata": {
  "kernelspec": {
   "display_name": "Python 3",
   "language": "python",
   "name": "python3"
  },
  "language_info": {
   "codemirror_mode": {
    "name": "ipython",
    "version": 3
   },
   "file_extension": ".py",
   "mimetype": "text/x-python",
   "name": "python",
   "nbconvert_exporter": "python",
   "pygments_lexer": "ipython3",
   "version": "3.6.1"
  }
 },
 "nbformat": 4,
 "nbformat_minor": 2
}
